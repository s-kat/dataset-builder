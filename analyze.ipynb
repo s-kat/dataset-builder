{
 "cells": [
  {
   "cell_type": "code",
   "execution_count": 7,
   "metadata": {},
   "outputs": [],
   "source": [
    "import glob\n",
    "import json\n",
    "\n",
    "unique = dict()\n",
    "total_count = 0\n",
    "total = {}\n",
    "\n",
    "for res_file in glob.glob(\"new/*\"):\n",
    "    with open(res_file, 'r') as r_file:\n",
    "        cur_res = json.load(r_file)\n",
    "        total_count += len(cur_res.keys())\n",
    "        repo = res_file[:res_file.find('_')]\n",
    "        for func_name in cur_res:\n",
    "            total.setdefault(func_name, 0)\n",
    "            total[func_name] += 1\n",
    "\n",
    "            if cur_res[func_name].get('text', None) is not None:\n",
    "                unique.setdefault(func_name, set())\n",
    "                unique[func_name] = cur_res[func_name]['text']"
   ]
  },
  {
   "cell_type": "code",
   "execution_count": 8,
   "metadata": {},
   "outputs": [
    {
     "data": {
      "text/plain": [
       "443"
      ]
     },
     "execution_count": 8,
     "metadata": {},
     "output_type": "execute_result"
    }
   ],
   "source": [
    "len(unique)"
   ]
  },
  {
   "cell_type": "code",
   "execution_count": 18,
   "metadata": {},
   "outputs": [],
   "source": [
    "with open('out.json', 'w') as w_file:\n",
    "    json.dump(unique, w_file)"
   ]
  }
 ],
 "metadata": {
  "interpreter": {
   "hash": "90bd059e05f79fb9b7cf5d2b1dae6ea26ca779772e058f49dd8fbe1978749df0"
  },
  "kernelspec": {
   "display_name": "Python 3.8.12 64-bit",
   "language": "python",
   "name": "python3"
  },
  "language_info": {
   "codemirror_mode": {
    "name": "ipython",
    "version": 3
   },
   "file_extension": ".py",
   "mimetype": "text/x-python",
   "name": "python",
   "nbconvert_exporter": "python",
   "pygments_lexer": "ipython3",
   "version": "3.8.12"
  },
  "orig_nbformat": 4
 },
 "nbformat": 4,
 "nbformat_minor": 2
}
